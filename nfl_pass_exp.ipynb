{
 "cells": [
  {
   "cell_type": "code",
   "execution_count": 1,
   "metadata": {},
   "outputs": [],
   "source": [
    "import numpy as np\n",
    "import pandas as pd\n",
    "import matplotlib.pyplot as plt\n",
    "\n",
    "from sklearn.preprocessing import LabelEncoder\n",
    "import gc\n",
    "gc.collect()\n",
    "\n",
    "from sklearn import model_selection\n",
    "from sklearn.preprocessing import StandardScaler,MinMaxScaler\n",
    "\n"
   ]
  },
  {
   "cell_type": "code",
   "execution_count": 2,
   "metadata": {},
   "outputs": [],
   "source": [
    "seasons = list(range(2009, 2020))"
   ]
  },
  {
   "cell_type": "code",
   "execution_count": 3,
   "metadata": {},
   "outputs": [
    {
     "name": "stderr",
     "output_type": "stream",
     "text": [
      "/usr/local/lib/python3.7/site-packages/IPython/core/interactiveshell.py:3051: DtypeWarning: Columns (42,167,168,175,176,179,180,183,184,189,190,191,192,204,205,206,232,233,234,239,241,242) have mixed types. Specify dtype option on import or set low_memory=False.\n",
      "  interactivity=interactivity, compiler=compiler, result=result)\n",
      "/usr/local/lib/python3.7/site-packages/IPython/core/interactiveshell.py:3051: DtypeWarning: Columns (42,167,168,169,170,175,176,179,180,183,184,189,190,191,192,195,196,204,205,206,219,220,221,232,233,234,239,241,242) have mixed types. Specify dtype option on import or set low_memory=False.\n",
      "  interactivity=interactivity, compiler=compiler, result=result)\n",
      "/usr/local/lib/python3.7/site-packages/IPython/core/interactiveshell.py:3051: DtypeWarning: Columns (37,38,39,42,46,47,167,168,169,170,173,174,175,176,177,178,179,180,183,184,185,186,189,190,191,192,193,194,195,196,199,200,204,205,206,225,226,227,228,232,233,234,239,241,242,245,246,247,250,251) have mixed types. Specify dtype option on import or set low_memory=False.\n",
      "  interactivity=interactivity, compiler=compiler, result=result)\n",
      "/usr/local/lib/python3.7/site-packages/IPython/core/interactiveshell.py:3051: DtypeWarning: Columns (42,167,168,169,170,175,176,179,180,183,184,189,190,191,192,199,200,204,205,206,227,228,232,233,234,239,241,242,250) have mixed types. Specify dtype option on import or set low_memory=False.\n",
      "  interactivity=interactivity, compiler=compiler, result=result)\n",
      "/usr/local/lib/python3.7/site-packages/IPython/core/interactiveshell.py:3051: DtypeWarning: Columns (167,168,169,170,179,180,183,184,189,190,191,192,195,196,199,200,204,205,206,227,228,232,233,234,239,241,242,250) have mixed types. Specify dtype option on import or set low_memory=False.\n",
      "  interactivity=interactivity, compiler=compiler, result=result)\n",
      "/usr/local/lib/python3.7/site-packages/IPython/core/interactiveshell.py:3051: DtypeWarning: Columns (42,167,168,169,170,175,176,179,180,183,184,189,190,191,192,204,205,206,227,228,232,233,234,239,241,242) have mixed types. Specify dtype option on import or set low_memory=False.\n",
      "  interactivity=interactivity, compiler=compiler, result=result)\n",
      "/usr/local/lib/python3.7/site-packages/IPython/core/interactiveshell.py:3051: DtypeWarning: Columns (42,167,168,175,176,179,180,183,184,189,190,191,192,204,205,206,227,228,232,233,234,239,241,242) have mixed types. Specify dtype option on import or set low_memory=False.\n",
      "  interactivity=interactivity, compiler=compiler, result=result)\n",
      "/usr/local/lib/python3.7/site-packages/IPython/core/interactiveshell.py:3051: DtypeWarning: Columns (167,168,169,170,175,176,179,180,183,184,189,190,191,192,195,196,199,200,204,205,206,227,228,232,233,234,239,241,242) have mixed types. Specify dtype option on import or set low_memory=False.\n",
      "  interactivity=interactivity, compiler=compiler, result=result)\n",
      "/usr/local/lib/python3.7/site-packages/IPython/core/interactiveshell.py:3051: DtypeWarning: Columns (42,167,168,169,170,175,176,179,180,183,184,189,190,191,192,199,200,204,205,206,227,228,232,233,234,239,241,242) have mixed types. Specify dtype option on import or set low_memory=False.\n",
      "  interactivity=interactivity, compiler=compiler, result=result)\n",
      "/usr/local/lib/python3.7/site-packages/IPython/core/interactiveshell.py:3051: DtypeWarning: Columns (42,167,168,169,170,179,180,183,184,189,190,191,192,199,200,201,202,203,204,205,206,208,210,212,227,228,229,230,231,232,233,234,235,237,238,239,241,242,250) have mixed types. Specify dtype option on import or set low_memory=False.\n",
      "  interactivity=interactivity, compiler=compiler, result=result)\n",
      "/usr/local/lib/python3.7/site-packages/IPython/core/interactiveshell.py:3051: DtypeWarning: Columns (167,168,169,170,175,176,179,180,183,184,189,190,191,192,195,196,204,205,206,219,220,221,222,223,224,227,228,232,233,234,239,241,242) have mixed types. Specify dtype option on import or set low_memory=False.\n",
      "  interactivity=interactivity, compiler=compiler, result=result)\n"
     ]
    }
   ],
   "source": [
    "pbp = None\n",
    "\n",
    "for season in seasons:\n",
    "    path = './data/nflscrapR/play_by_play_data/regular_season/reg_pbp_{}.csv'.format(season)\n",
    "    sea_pbp = pd.read_csv(path)\n",
    "    \n",
    "    if pbp is not None:\n",
    "        pbp = pd.concat([pbp,sea_pbp],axis=0)\n",
    "    else:\n",
    "        pbp = sea_pbp"
   ]
  },
  {
   "cell_type": "markdown",
   "metadata": {},
   "source": [
    "Step one. Create model that predicts run or pass."
   ]
  },
  {
   "cell_type": "code",
   "execution_count": 4,
   "metadata": {},
   "outputs": [],
   "source": [
    "# some renames\n",
    "pbp = pbp.rename(columns={'yardline_100':'yards_for_td'})\n",
    "\n",
    "pbp['is_home'] = np.where(pbp['home_team']==pbp['posteam'],1,0)\n",
    "pbp['half'] = np.where(pbp['game_seconds_remaining'] > 1800, 0, 1)\n"
   ]
  },
  {
   "cell_type": "code",
   "execution_count": 5,
   "metadata": {},
   "outputs": [
    {
     "data": {
      "text/html": [
       "<div>\n",
       "<style scoped>\n",
       "    .dataframe tbody tr th:only-of-type {\n",
       "        vertical-align: middle;\n",
       "    }\n",
       "\n",
       "    .dataframe tbody tr th {\n",
       "        vertical-align: top;\n",
       "    }\n",
       "\n",
       "    .dataframe thead th {\n",
       "        text-align: right;\n",
       "    }\n",
       "</style>\n",
       "<table border=\"1\" class=\"dataframe\">\n",
       "  <thead>\n",
       "    <tr style=\"text-align: right;\">\n",
       "      <th></th>\n",
       "      <th>play_id</th>\n",
       "      <th>game_id</th>\n",
       "      <th>home_team</th>\n",
       "      <th>away_team</th>\n",
       "      <th>posteam</th>\n",
       "      <th>posteam_type</th>\n",
       "      <th>defteam</th>\n",
       "      <th>side_of_field</th>\n",
       "      <th>yards_for_td</th>\n",
       "      <th>game_date</th>\n",
       "      <th>...</th>\n",
       "      <th>penalty_yards</th>\n",
       "      <th>replay_or_challenge</th>\n",
       "      <th>replay_or_challenge_result</th>\n",
       "      <th>penalty_type</th>\n",
       "      <th>defensive_two_point_attempt</th>\n",
       "      <th>defensive_two_point_conv</th>\n",
       "      <th>defensive_extra_point_attempt</th>\n",
       "      <th>defensive_extra_point_conv</th>\n",
       "      <th>is_home</th>\n",
       "      <th>half</th>\n",
       "    </tr>\n",
       "  </thead>\n",
       "  <tbody>\n",
       "    <tr>\n",
       "      <th>1</th>\n",
       "      <td>68</td>\n",
       "      <td>2009091000</td>\n",
       "      <td>PIT</td>\n",
       "      <td>TEN</td>\n",
       "      <td>PIT</td>\n",
       "      <td>home</td>\n",
       "      <td>TEN</td>\n",
       "      <td>PIT</td>\n",
       "      <td>58.0</td>\n",
       "      <td>2009-09-10</td>\n",
       "      <td>...</td>\n",
       "      <td>NaN</td>\n",
       "      <td>0</td>\n",
       "      <td>NaN</td>\n",
       "      <td>NaN</td>\n",
       "      <td>0.0</td>\n",
       "      <td>0.0</td>\n",
       "      <td>0.0</td>\n",
       "      <td>0.0</td>\n",
       "      <td>1</td>\n",
       "      <td>0</td>\n",
       "    </tr>\n",
       "    <tr>\n",
       "      <th>2</th>\n",
       "      <td>92</td>\n",
       "      <td>2009091000</td>\n",
       "      <td>PIT</td>\n",
       "      <td>TEN</td>\n",
       "      <td>PIT</td>\n",
       "      <td>home</td>\n",
       "      <td>TEN</td>\n",
       "      <td>PIT</td>\n",
       "      <td>53.0</td>\n",
       "      <td>2009-09-10</td>\n",
       "      <td>...</td>\n",
       "      <td>NaN</td>\n",
       "      <td>0</td>\n",
       "      <td>NaN</td>\n",
       "      <td>NaN</td>\n",
       "      <td>0.0</td>\n",
       "      <td>0.0</td>\n",
       "      <td>0.0</td>\n",
       "      <td>0.0</td>\n",
       "      <td>1</td>\n",
       "      <td>0</td>\n",
       "    </tr>\n",
       "    <tr>\n",
       "      <th>3</th>\n",
       "      <td>113</td>\n",
       "      <td>2009091000</td>\n",
       "      <td>PIT</td>\n",
       "      <td>TEN</td>\n",
       "      <td>PIT</td>\n",
       "      <td>home</td>\n",
       "      <td>TEN</td>\n",
       "      <td>PIT</td>\n",
       "      <td>56.0</td>\n",
       "      <td>2009-09-10</td>\n",
       "      <td>...</td>\n",
       "      <td>NaN</td>\n",
       "      <td>0</td>\n",
       "      <td>NaN</td>\n",
       "      <td>NaN</td>\n",
       "      <td>0.0</td>\n",
       "      <td>0.0</td>\n",
       "      <td>0.0</td>\n",
       "      <td>0.0</td>\n",
       "      <td>1</td>\n",
       "      <td>0</td>\n",
       "    </tr>\n",
       "    <tr>\n",
       "      <th>4</th>\n",
       "      <td>139</td>\n",
       "      <td>2009091000</td>\n",
       "      <td>PIT</td>\n",
       "      <td>TEN</td>\n",
       "      <td>PIT</td>\n",
       "      <td>home</td>\n",
       "      <td>TEN</td>\n",
       "      <td>PIT</td>\n",
       "      <td>56.0</td>\n",
       "      <td>2009-09-10</td>\n",
       "      <td>...</td>\n",
       "      <td>NaN</td>\n",
       "      <td>0</td>\n",
       "      <td>NaN</td>\n",
       "      <td>NaN</td>\n",
       "      <td>0.0</td>\n",
       "      <td>0.0</td>\n",
       "      <td>0.0</td>\n",
       "      <td>0.0</td>\n",
       "      <td>1</td>\n",
       "      <td>0</td>\n",
       "    </tr>\n",
       "    <tr>\n",
       "      <th>5</th>\n",
       "      <td>162</td>\n",
       "      <td>2009091000</td>\n",
       "      <td>PIT</td>\n",
       "      <td>TEN</td>\n",
       "      <td>TEN</td>\n",
       "      <td>away</td>\n",
       "      <td>PIT</td>\n",
       "      <td>TEN</td>\n",
       "      <td>98.0</td>\n",
       "      <td>2009-09-10</td>\n",
       "      <td>...</td>\n",
       "      <td>NaN</td>\n",
       "      <td>0</td>\n",
       "      <td>NaN</td>\n",
       "      <td>NaN</td>\n",
       "      <td>0.0</td>\n",
       "      <td>0.0</td>\n",
       "      <td>0.0</td>\n",
       "      <td>0.0</td>\n",
       "      <td>0</td>\n",
       "      <td>0</td>\n",
       "    </tr>\n",
       "  </tbody>\n",
       "</table>\n",
       "<p>5 rows × 258 columns</p>\n",
       "</div>"
      ],
      "text/plain": [
       "   play_id     game_id home_team away_team posteam posteam_type defteam  \\\n",
       "1       68  2009091000       PIT       TEN     PIT         home     TEN   \n",
       "2       92  2009091000       PIT       TEN     PIT         home     TEN   \n",
       "3      113  2009091000       PIT       TEN     PIT         home     TEN   \n",
       "4      139  2009091000       PIT       TEN     PIT         home     TEN   \n",
       "5      162  2009091000       PIT       TEN     TEN         away     PIT   \n",
       "\n",
       "  side_of_field  yards_for_td   game_date  ...  penalty_yards  \\\n",
       "1           PIT          58.0  2009-09-10  ...            NaN   \n",
       "2           PIT          53.0  2009-09-10  ...            NaN   \n",
       "3           PIT          56.0  2009-09-10  ...            NaN   \n",
       "4           PIT          56.0  2009-09-10  ...            NaN   \n",
       "5           TEN          98.0  2009-09-10  ...            NaN   \n",
       "\n",
       "   replay_or_challenge  replay_or_challenge_result penalty_type  \\\n",
       "1                    0                         NaN          NaN   \n",
       "2                    0                         NaN          NaN   \n",
       "3                    0                         NaN          NaN   \n",
       "4                    0                         NaN          NaN   \n",
       "5                    0                         NaN          NaN   \n",
       "\n",
       "   defensive_two_point_attempt  defensive_two_point_conv  \\\n",
       "1                          0.0                       0.0   \n",
       "2                          0.0                       0.0   \n",
       "3                          0.0                       0.0   \n",
       "4                          0.0                       0.0   \n",
       "5                          0.0                       0.0   \n",
       "\n",
       "   defensive_extra_point_attempt  defensive_extra_point_conv  is_home  half  \n",
       "1                            0.0                         0.0        1     0  \n",
       "2                            0.0                         0.0        1     0  \n",
       "3                            0.0                         0.0        1     0  \n",
       "4                            0.0                         0.0        1     0  \n",
       "5                            0.0                         0.0        0     0  \n",
       "\n",
       "[5 rows x 258 columns]"
      ]
     },
     "execution_count": 5,
     "metadata": {},
     "output_type": "execute_result"
    }
   ],
   "source": [
    "pbp.loc[pbp.posteam==pbp.side_of_field].head()"
   ]
  },
  {
   "cell_type": "code",
   "execution_count": 6,
   "metadata": {},
   "outputs": [
    {
     "name": "stdout",
     "output_type": "stream",
     "text": [
      "498393\n",
      "378758\n"
     ]
    },
    {
     "data": {
      "text/plain": [
       "play_type\n",
       "field_goal       875\n",
       "no_play        24813\n",
       "pass          203175\n",
       "punt               2\n",
       "qb_kneel        4157\n",
       "qb_spike         762\n",
       "run           144565\n",
       "Name: ydstogo, dtype: int64"
      ]
     },
     "execution_count": 6,
     "metadata": {},
     "output_type": "execute_result"
    }
   ],
   "source": [
    "# only projecting downs 1-3\n",
    "print(len(pbp))\n",
    "pbp = pbp.loc[pbp.down.isin([1,2,3])]\n",
    "print(len(pbp))\n",
    "\n",
    "# only care about passes and runs\n",
    "pbp.groupby(['play_type'])['ydstogo'].count()"
   ]
  },
  {
   "cell_type": "code",
   "execution_count": 7,
   "metadata": {},
   "outputs": [],
   "source": [
    "# since a lot of no plays are runs with holding calls, or passes with interference, I want to keep as many as possible\n",
    "pbp = pbp.loc[pbp.play_type.isin(['pass','run','no_play'])]\n",
    "\n",
    "# clean no plays\n",
    "pbp.loc[(pbp.play_type=='no_play')&(pbp.desc.str.contains('sacked')), 'play_type'] = 'pass'\n",
    "pbp.loc[(pbp.play_type=='no_play')&(pbp.desc.str.contains('complete')), 'play_type'] = 'pass'\n",
    "pbp.loc[(pbp.play_type=='no_play')&(pbp.desc.str.contains('incomplete')), 'play_type'] = 'pass'\n",
    "pbp.loc[(pbp.play_type=='no_play')&(pbp.desc.str.contains('pass')), 'play_type'] = 'pass'\n",
    "\n",
    "pbp.loc[(pbp.play_type=='no_play')&(pbp.desc.str.contains('up the middle')), 'play_type'] = 'run'\n",
    "pbp.loc[(pbp.play_type=='no_play')&(pbp.desc.str.contains('right guard')), 'play_type'] = 'run'\n",
    "pbp.loc[(pbp.play_type=='no_play')&(pbp.desc.str.contains('right tackle')), 'play_type'] = 'run'\n",
    "pbp.loc[(pbp.play_type=='no_play')&(pbp.desc.str.contains('right end')), 'play_type'] = 'run'\n",
    "pbp.loc[(pbp.play_type=='no_play')&(pbp.desc.str.contains('left guard')), 'play_type'] = 'run'\n",
    "pbp.loc[(pbp.play_type=='no_play')&(pbp.desc.str.contains('left tackle')), 'play_type'] = 'run'\n",
    "pbp.loc[(pbp.play_type=='no_play')&(pbp.desc.str.contains('left end')), 'play_type'] = 'run'"
   ]
  },
  {
   "cell_type": "code",
   "execution_count": 8,
   "metadata": {},
   "outputs": [
    {
     "data": {
      "text/plain": [
       "array(['(8:17) (No Huddle) PENALTY on TEN-K.Vanden Bosch, Encroachment, 5 yards, enforced at TEN 46 - No Play. Unabated to the Quarterback.',\n",
       "       '(:44) PENALTY on TEN-D.Stewart, False Start, 3 yards, enforced at TEN 6 - No Play.',\n",
       "       '(4:02) PENALTY on CLE-B.Edwards, False Start, 5 yards, enforced at CLE 42 - No Play.',\n",
       "       '(13:41) PENALTY on MIN-B.Favre, Delay of Game, 5 yards, enforced at CLE 33 - No Play.',\n",
       "       '(15:00) (Shotgun) PENALTY on MIN-K.Williams, Encroachment, 5 yards, enforced at CLE 35 - No Play.',\n",
       "       '(14:19) (No Huddle, Shotgun) PENALTY on CLE-J.Davis, False Start, 5 yards, enforced at MIN 46 - No Play.',\n",
       "       '(10:57) (No Huddle, Shotgun) PENALTY on CLE-J.Thomas, False Start, 5 yards, enforced at CLE 35 - No Play.',\n",
       "       '(6:48) (Shotgun) PENALTY on CLE-J.St. Clair, False Start, 5 yards, enforced at CLE 26 - No Play.',\n",
       "       '(4:30) (Shotgun) PENALTY on NO-J.Stinchcomb, False Start, 5 yards, enforced at NO 20 - No Play.',\n",
       "       '(12:00) PENALTY on DET, Defensive Offside, 5 yards, enforced at NO 32 - No Play. Referee did not indicate player who committed infraction.',\n",
       "       '(:39) PENALTY on DET-J.Backus, False Start, 5 yards, enforced at NO 15 - No Play.',\n",
       "       '(7:07) (Shotgun) PENALTY on NO-J.Goodwin, False Start, 5 yards, enforced at DET 27 - No Play.',\n",
       "       '(3:54) PENALTY on DET-D.Loper, False Start, 5 yards, enforced at NO 1 - No Play.',\n",
       "       '(:55) (Shotgun) PENALTY on TB-G.Adams, Defensive Offside, 5 yards, enforced at TB 47 - No Play.',\n",
       "       '(4:54) PENALTY on NYJ-A.Faneca, False Start, 5 yards, enforced at HOU 31 - No Play.',\n",
       "       '(13:20) PENALTY on NYJ-B.Moore, False Start, 5 yards, enforced at NYJ 20 - No Play.',\n",
       "       '(2:00) PENALTY on HOU-E.Winston, False Start, 2 yards, enforced at HOU 5 - No Play.',\n",
       "       '(14:28) PENALTY on NYJ-D.Ferguson, Illegal Motion, 5 yards, enforced at NYJ 36 - No Play.',\n",
       "       '(13:42) PENALTY on NYJ-M.Sanchez, False Start, 5 yards, enforced at HOU 48 - No Play.',\n",
       "       '(11:11) PENALTY on NYJ, Illegal Substitution, 5 yards, enforced at HOU 33 - No Play.',\n",
       "       '(14:54) PENALTY on IND-D.Freeney, Neutral Zone Infraction, 5 yards, enforced at JAC 28 - No Play.',\n",
       "       '(11:13) (Shotgun) PENALTY on IND-P.Garcon, False Start, 5 yards, enforced at IND 35 - No Play.',\n",
       "       '(3:56) PENALTY on JAC-E.Monroe, False Start, 4 yards, enforced at JAC 9 - No Play.',\n",
       "       '(12:00) (Shotgun) PENALTY on DEN-D.Graham, False Start, 5 yards, enforced at DEN 10 - No Play.',\n",
       "       '(7:54) (Shotgun) PENALTY on DEN-B.Hamilton, False Start, 5 yards, enforced at CIN 24 - No Play.',\n",
       "       '(12:13) PENALTY on CAR-J.King, False Start, 5 yards, enforced at PHI 27 - No Play.',\n",
       "       '(8:15) PENALTY on CAR-R.Kalil, False Start, 5 yards, enforced at PHI 1 - No Play.',\n",
       "       '(7:02) PENALTY on CAR-J.Otah, False Start, 5 yards, enforced at PHI 6 - No Play.',\n",
       "       '(5:41) (Shotgun) PENALTY on PHI-J.Peters, False Start, 5 yards, enforced at PHI 32 - No Play.',\n",
       "       '(2:12) (Shotgun) PENALTY on PHI-J.Peters, False Start, 5 yards, enforced at CAR 31 - No Play.',\n",
       "       '(10:44) PENALTY on PHI-N.Cole, False Start, 5 yards, enforced at CAR 29 - No Play.',\n",
       "       '(6:08) PENALTY on PHI-S.Andrews, False Start, 5 yards, enforced at CAR 38 - No Play.',\n",
       "       '(8:10) (No Huddle, Shotgun) PENALTY on BAL-J.Flacco, Delay of Game, 5 yards, enforced at BAL 34 - No Play.',\n",
       "       '(3:49) PENALTY on KC-B.Albert, False Start, 5 yards, enforced at KC 31 - No Play.',\n",
       "       '(4:57) PENALTY on MIA-J.Taylor, Defensive Offside, 5 yards, enforced at ATL 27 - No Play.',\n",
       "       '(9:13) PENALTY on ARI-M.Gandy, False Start, 5 yards, enforced at ARI 20 - No Play.',\n",
       "       '(7:23) PENALTY on ARI-A.Wilson, Defensive Offside, 5 yards, enforced at ARI 28 - No Play.',\n",
       "       '(:38) PENALTY on ARI-A.Becht, False Start, 5 yards, enforced at SF 38 - No Play.',\n",
       "       '(12:14) PENALTY on ARI-D.Dockett, Defensive Offside, 5 yards, enforced at SF 41 - No Play.',\n",
       "       '(:11) (Field Goal formation) PENALTY on SF, Unsportsmanlike Conduct, 11 yards, enforced at SF 22 - No Play.',\n",
       "       '(1:32) (Shotgun) PENALTY on ARI-K.Warner, Delay of Game, 5 yards, enforced at SF 31 - No Play.',\n",
       "       '(1:32) PENALTY on SF-P.Haralson, Defensive Offside, 5 yards, enforced at SF 31 - No Play.',\n",
       "       '(3:11) PENALTY on ARI-S.Spach, False Start, 5 yards, enforced at SF 38 - No Play.',\n",
       "       '(14:03) PENALTY on STL-R.Incognito, False Start, 5 yards, enforced at STL 20 - No Play.',\n",
       "       '(2:44) PENALTY on STL-J.Bell, False Start, 5 yards, enforced at STL 39 - No Play.',\n",
       "       '(12:57) PENALTY on STL-R.McMichael, False Start, 5 yards, enforced at SEA 9 - No Play.',\n",
       "       '(12:30) (Shotgun) PENALTY on STL-M.Bulger, Delay of Game, 5 yards, enforced at SEA 14 - No Play.',\n",
       "       '(4:22) (Shotgun) PENALTY on STL-J.Smith, False Start, 5 yards, enforced at STL 12 - No Play.',\n",
       "       '(13:05) PENALTY on NYG-E.Manning, Delay of Game, 5 yards, enforced at WAS 34 - No Play.',\n",
       "       '(9:23) PENALTY on NYG-M.Hedgecock, False Start, 5 yards, enforced at NYG 24 - No Play.'],\n",
       "      dtype=object)"
      ]
     },
     "execution_count": 8,
     "metadata": {},
     "output_type": "execute_result"
    }
   ],
   "source": [
    "# looks good, all presnap plays \n",
    "pbp.loc[pbp.play_type=='no_play'].desc.head(50).values"
   ]
  },
  {
   "cell_type": "code",
   "execution_count": 9,
   "metadata": {},
   "outputs": [
    {
     "data": {
      "text/plain": [
       "play_type\n",
       "no_play      9014\n",
       "pass       214991\n",
       "run        148548\n",
       "Name: ydstogo, dtype: int64"
      ]
     },
     "execution_count": 9,
     "metadata": {},
     "output_type": "execute_result"
    }
   ],
   "source": [
    "pbp.groupby(['play_type'])['ydstogo'].count()"
   ]
  },
  {
   "cell_type": "code",
   "execution_count": 10,
   "metadata": {},
   "outputs": [
    {
     "name": "stdout",
     "output_type": "stream",
     "text": [
      "363539\n"
     ]
    }
   ],
   "source": [
    "pbp = pbp.loc[pbp.play_type.isin(['pass','run'])]\n",
    "print(len(pbp))"
   ]
  },
  {
   "cell_type": "code",
   "execution_count": null,
   "metadata": {},
   "outputs": [],
   "source": []
  },
  {
   "cell_type": "code",
   "execution_count": 11,
   "metadata": {},
   "outputs": [
    {
     "name": "stdout",
     "output_type": "stream",
     "text": [
      "play_type\n",
      "pass    0.053282\n",
      "run    -0.070988\n",
      "Name: epa, dtype: float64\n",
      "play_type\n",
      "pass   -0.215112\n",
      "run    -0.220463\n",
      "Name: epa, dtype: float64\n"
     ]
    }
   ],
   "source": [
    "# quick finding on how efficient play types are\n",
    "print(pbp.groupby(['play_type'])['epa'].mean())\n",
    "print(pbp.groupby(['play_type'])['epa'].median())\n"
   ]
  },
  {
   "cell_type": "code",
   "execution_count": 12,
   "metadata": {},
   "outputs": [
    {
     "name": "stdout",
     "output_type": "stream",
     "text": [
      "play_type\n",
      "pass    0.002162\n",
      "run    -0.001165\n",
      "Name: wpa, dtype: float64\n",
      "play_type\n",
      "pass   -0.002480\n",
      "run    -0.002505\n",
      "Name: wpa, dtype: float64\n"
     ]
    }
   ],
   "source": [
    "print(pbp.groupby(['play_type'])['wpa'].mean())\n",
    "print(pbp.groupby(['play_type'])['wpa'].median())\n"
   ]
  },
  {
   "cell_type": "code",
   "execution_count": 13,
   "metadata": {},
   "outputs": [
    {
     "data": {
      "text/html": [
       "<div>\n",
       "<style scoped>\n",
       "    .dataframe tbody tr th:only-of-type {\n",
       "        vertical-align: middle;\n",
       "    }\n",
       "\n",
       "    .dataframe tbody tr th {\n",
       "        vertical-align: top;\n",
       "    }\n",
       "\n",
       "    .dataframe thead th {\n",
       "        text-align: right;\n",
       "    }\n",
       "</style>\n",
       "<table border=\"1\" class=\"dataframe\">\n",
       "  <thead>\n",
       "    <tr style=\"text-align: right;\">\n",
       "      <th></th>\n",
       "      <th>yards_for_td</th>\n",
       "      <th>ydstogo</th>\n",
       "      <th>goal_to_go</th>\n",
       "      <th>down</th>\n",
       "      <th>is_home</th>\n",
       "      <th>half</th>\n",
       "      <th>half_seconds_remaining</th>\n",
       "      <th>score_differential</th>\n",
       "      <th>play_type</th>\n",
       "    </tr>\n",
       "  </thead>\n",
       "  <tbody>\n",
       "    <tr>\n",
       "      <th>1</th>\n",
       "      <td>58.0</td>\n",
       "      <td>10</td>\n",
       "      <td>0.0</td>\n",
       "      <td>1.0</td>\n",
       "      <td>1</td>\n",
       "      <td>0</td>\n",
       "      <td>1793.0</td>\n",
       "      <td>0.0</td>\n",
       "      <td>pass</td>\n",
       "    </tr>\n",
       "    <tr>\n",
       "      <th>2</th>\n",
       "      <td>53.0</td>\n",
       "      <td>5</td>\n",
       "      <td>0.0</td>\n",
       "      <td>2.0</td>\n",
       "      <td>1</td>\n",
       "      <td>0</td>\n",
       "      <td>1756.0</td>\n",
       "      <td>0.0</td>\n",
       "      <td>run</td>\n",
       "    </tr>\n",
       "    <tr>\n",
       "      <th>3</th>\n",
       "      <td>56.0</td>\n",
       "      <td>8</td>\n",
       "      <td>0.0</td>\n",
       "      <td>3.0</td>\n",
       "      <td>1</td>\n",
       "      <td>0</td>\n",
       "      <td>1715.0</td>\n",
       "      <td>0.0</td>\n",
       "      <td>pass</td>\n",
       "    </tr>\n",
       "    <tr>\n",
       "      <th>5</th>\n",
       "      <td>98.0</td>\n",
       "      <td>10</td>\n",
       "      <td>0.0</td>\n",
       "      <td>1.0</td>\n",
       "      <td>0</td>\n",
       "      <td>0</td>\n",
       "      <td>1696.0</td>\n",
       "      <td>0.0</td>\n",
       "      <td>run</td>\n",
       "    </tr>\n",
       "    <tr>\n",
       "      <th>6</th>\n",
       "      <td>98.0</td>\n",
       "      <td>10</td>\n",
       "      <td>0.0</td>\n",
       "      <td>2.0</td>\n",
       "      <td>0</td>\n",
       "      <td>0</td>\n",
       "      <td>1660.0</td>\n",
       "      <td>0.0</td>\n",
       "      <td>pass</td>\n",
       "    </tr>\n",
       "    <tr>\n",
       "      <th>...</th>\n",
       "      <td>...</td>\n",
       "      <td>...</td>\n",
       "      <td>...</td>\n",
       "      <td>...</td>\n",
       "      <td>...</td>\n",
       "      <td>...</td>\n",
       "      <td>...</td>\n",
       "      <td>...</td>\n",
       "      <td>...</td>\n",
       "    </tr>\n",
       "    <tr>\n",
       "      <th>45533</th>\n",
       "      <td>12.0</td>\n",
       "      <td>10</td>\n",
       "      <td>0.0</td>\n",
       "      <td>2.0</td>\n",
       "      <td>1</td>\n",
       "      <td>1</td>\n",
       "      <td>51.0</td>\n",
       "      <td>-5.0</td>\n",
       "      <td>pass</td>\n",
       "    </tr>\n",
       "    <tr>\n",
       "      <th>45535</th>\n",
       "      <td>12.0</td>\n",
       "      <td>10</td>\n",
       "      <td>0.0</td>\n",
       "      <td>3.0</td>\n",
       "      <td>1</td>\n",
       "      <td>1</td>\n",
       "      <td>46.0</td>\n",
       "      <td>-5.0</td>\n",
       "      <td>pass</td>\n",
       "    </tr>\n",
       "    <tr>\n",
       "      <th>45541</th>\n",
       "      <td>5.0</td>\n",
       "      <td>5</td>\n",
       "      <td>1.0</td>\n",
       "      <td>2.0</td>\n",
       "      <td>1</td>\n",
       "      <td>1</td>\n",
       "      <td>22.0</td>\n",
       "      <td>-5.0</td>\n",
       "      <td>pass</td>\n",
       "    </tr>\n",
       "    <tr>\n",
       "      <th>45542</th>\n",
       "      <td>5.0</td>\n",
       "      <td>5</td>\n",
       "      <td>1.0</td>\n",
       "      <td>3.0</td>\n",
       "      <td>1</td>\n",
       "      <td>1</td>\n",
       "      <td>15.0</td>\n",
       "      <td>-5.0</td>\n",
       "      <td>pass</td>\n",
       "    </tr>\n",
       "    <tr>\n",
       "      <th>45544</th>\n",
       "      <td>99.0</td>\n",
       "      <td>10</td>\n",
       "      <td>0.0</td>\n",
       "      <td>1.0</td>\n",
       "      <td>0</td>\n",
       "      <td>1</td>\n",
       "      <td>9.0</td>\n",
       "      <td>5.0</td>\n",
       "      <td>run</td>\n",
       "    </tr>\n",
       "  </tbody>\n",
       "</table>\n",
       "<p>363539 rows × 9 columns</p>\n",
       "</div>"
      ],
      "text/plain": [
       "       yards_for_td  ydstogo  goal_to_go  down  is_home  half  \\\n",
       "1              58.0       10         0.0   1.0        1     0   \n",
       "2              53.0        5         0.0   2.0        1     0   \n",
       "3              56.0        8         0.0   3.0        1     0   \n",
       "5              98.0       10         0.0   1.0        0     0   \n",
       "6              98.0       10         0.0   2.0        0     0   \n",
       "...             ...      ...         ...   ...      ...   ...   \n",
       "45533          12.0       10         0.0   2.0        1     1   \n",
       "45535          12.0       10         0.0   3.0        1     1   \n",
       "45541           5.0        5         1.0   2.0        1     1   \n",
       "45542           5.0        5         1.0   3.0        1     1   \n",
       "45544          99.0       10         0.0   1.0        0     1   \n",
       "\n",
       "       half_seconds_remaining  score_differential play_type  \n",
       "1                      1793.0                 0.0      pass  \n",
       "2                      1756.0                 0.0       run  \n",
       "3                      1715.0                 0.0      pass  \n",
       "5                      1696.0                 0.0       run  \n",
       "6                      1660.0                 0.0      pass  \n",
       "...                       ...                 ...       ...  \n",
       "45533                    51.0                -5.0      pass  \n",
       "45535                    46.0                -5.0      pass  \n",
       "45541                    22.0                -5.0      pass  \n",
       "45542                    15.0                -5.0      pass  \n",
       "45544                     9.0                 5.0       run  \n",
       "\n",
       "[363539 rows x 9 columns]"
      ]
     },
     "execution_count": 13,
     "metadata": {},
     "output_type": "execute_result"
    }
   ],
   "source": [
    "# print(list(pbp.columns))\n",
    "\n",
    "# useful cols\n",
    "# yards to go for TD\n",
    "# goal to go\n",
    "# yards to go for first \n",
    "# is at home\n",
    "# posteam_timeouts_remaining\n",
    "# defteam_timeouts_remaining\n",
    "# down\n",
    "# first half or second - \"half\"\n",
    "# half_seconds_remaining\n",
    "# scoring differential\n",
    "\n",
    "\n",
    "# target\n",
    "# play_type\n",
    "\n",
    "# model dataframe\n",
    "mdf = pbp[['yards_for_td','ydstogo','goal_to_go','down','is_home','half','half_seconds_remaining','score_differential','play_type']]\n",
    "\n",
    "\n",
    "mdf\n"
   ]
  },
  {
   "cell_type": "code",
   "execution_count": 14,
   "metadata": {},
   "outputs": [
    {
     "data": {
      "text/plain": [
       "yards_for_td              0\n",
       "ydstogo                   0\n",
       "goal_to_go                0\n",
       "down                      0\n",
       "is_home                   0\n",
       "half                      0\n",
       "half_seconds_remaining    0\n",
       "score_differential        0\n",
       "play_type                 0\n",
       "dtype: int64"
      ]
     },
     "execution_count": 14,
     "metadata": {},
     "output_type": "execute_result"
    }
   ],
   "source": [
    "mdf.isnull().sum(axis=0)"
   ]
  },
  {
   "cell_type": "code",
   "execution_count": 15,
   "metadata": {},
   "outputs": [
    {
     "name": "stderr",
     "output_type": "stream",
     "text": [
      "/usr/local/lib/python3.7/site-packages/pandas/core/indexing.py:494: SettingWithCopyWarning: \n",
      "A value is trying to be set on a copy of a slice from a DataFrame.\n",
      "Try using .loc[row_indexer,col_indexer] = value instead\n",
      "\n",
      "See the caveats in the documentation: http://pandas.pydata.org/pandas-docs/stable/user_guide/indexing.html#returning-a-view-versus-a-copy\n",
      "  self.obj[item] = s\n"
     ]
    }
   ],
   "source": [
    "# transfer target into boolean\n",
    "mdf.loc[:,'play_type'] = mdf.play_type.copy().replace({\"run\":\"0\",\"pass\":\"1\"}).astype(int)"
   ]
  },
  {
   "cell_type": "code",
   "execution_count": 16,
   "metadata": {},
   "outputs": [
    {
     "name": "stdout",
     "output_type": "stream",
     "text": [
      "['yards_for_td', 'ydstogo', 'goal_to_go', 'down', 'is_home', 'half', 'half_seconds_remaining', 'score_differential', 'play_type']\n"
     ]
    }
   ],
   "source": [
    "print(list(mdf))"
   ]
  },
  {
   "cell_type": "code",
   "execution_count": 17,
   "metadata": {},
   "outputs": [],
   "source": [
    "scaler = StandardScaler().fit(mdf[mdf.columns[:-1]])\n",
    "df = scaler.transform(mdf[mdf.columns[:-1]])\n",
    "target = np.array(mdf['play_type'].copy().values)\n",
    "\n",
    "target = np.reshape(target, (-1, 1))\n",
    "df = np.append(df, target, axis=1)\n"
   ]
  },
  {
   "cell_type": "markdown",
   "metadata": {},
   "source": [
    "let's load coaches"
   ]
  },
  {
   "cell_type": "code",
   "execution_count": 18,
   "metadata": {},
   "outputs": [
    {
     "name": "stdout",
     "output_type": "stream",
     "text": [
      "33\n",
      "36\n",
      "35\n",
      "33\n",
      "33\n",
      "33\n",
      "35\n",
      "35\n",
      "33\n",
      "34\n",
      "34\n"
     ]
    },
    {
     "data": {
      "text/html": [
       "<div>\n",
       "<style scoped>\n",
       "    .dataframe tbody tr th:only-of-type {\n",
       "        vertical-align: middle;\n",
       "    }\n",
       "\n",
       "    .dataframe tbody tr th {\n",
       "        vertical-align: top;\n",
       "    }\n",
       "\n",
       "    .dataframe thead th {\n",
       "        text-align: right;\n",
       "    }\n",
       "</style>\n",
       "<table border=\"1\" class=\"dataframe\">\n",
       "  <thead>\n",
       "    <tr style=\"text-align: right;\">\n",
       "      <th></th>\n",
       "      <th>Coach</th>\n",
       "      <th>Tm</th>\n",
       "      <th>G</th>\n",
       "      <th>W</th>\n",
       "      <th>L</th>\n",
       "      <th>T</th>\n",
       "      <th>Begin</th>\n",
       "      <th>End</th>\n",
       "      <th>Remark</th>\n",
       "      <th>Season</th>\n",
       "    </tr>\n",
       "  </thead>\n",
       "  <tbody>\n",
       "    <tr>\n",
       "      <th>0</th>\n",
       "      <td>Ken Whisenhunt</td>\n",
       "      <td>ARI</td>\n",
       "      <td>16</td>\n",
       "      <td>10</td>\n",
       "      <td>6</td>\n",
       "      <td>0</td>\n",
       "      <td>1</td>\n",
       "      <td>17</td>\n",
       "      <td>NaN</td>\n",
       "      <td>2009</td>\n",
       "    </tr>\n",
       "    <tr>\n",
       "      <th>1</th>\n",
       "      <td>Mike Smith</td>\n",
       "      <td>ATL</td>\n",
       "      <td>16</td>\n",
       "      <td>9</td>\n",
       "      <td>7</td>\n",
       "      <td>0</td>\n",
       "      <td>1</td>\n",
       "      <td>17</td>\n",
       "      <td>NaN</td>\n",
       "      <td>2009</td>\n",
       "    </tr>\n",
       "    <tr>\n",
       "      <th>2</th>\n",
       "      <td>John Harbaugh</td>\n",
       "      <td>BAL</td>\n",
       "      <td>16</td>\n",
       "      <td>9</td>\n",
       "      <td>7</td>\n",
       "      <td>0</td>\n",
       "      <td>1</td>\n",
       "      <td>17</td>\n",
       "      <td>NaN</td>\n",
       "      <td>2009</td>\n",
       "    </tr>\n",
       "    <tr>\n",
       "      <th>3</th>\n",
       "      <td>Perry Fewell</td>\n",
       "      <td>BUF</td>\n",
       "      <td>7</td>\n",
       "      <td>3</td>\n",
       "      <td>4</td>\n",
       "      <td>0</td>\n",
       "      <td>11</td>\n",
       "      <td>17</td>\n",
       "      <td>Coach starting Week 11</td>\n",
       "      <td>2009</td>\n",
       "    </tr>\n",
       "    <tr>\n",
       "      <th>4</th>\n",
       "      <td>Dick Jauron</td>\n",
       "      <td>BUF</td>\n",
       "      <td>9</td>\n",
       "      <td>3</td>\n",
       "      <td>6</td>\n",
       "      <td>0</td>\n",
       "      <td>1</td>\n",
       "      <td>10</td>\n",
       "      <td>Fired after Week 10</td>\n",
       "      <td>2009</td>\n",
       "    </tr>\n",
       "  </tbody>\n",
       "</table>\n",
       "</div>"
      ],
      "text/plain": [
       "            Coach   Tm   G   W  L  T  Begin  End                  Remark  \\\n",
       "0  Ken Whisenhunt  ARI  16  10  6  0      1   17                     NaN   \n",
       "1      Mike Smith  ATL  16   9  7  0      1   17                     NaN   \n",
       "2   John Harbaugh  BAL  16   9  7  0      1   17                     NaN   \n",
       "3    Perry Fewell  BUF   7   3  4  0     11   17  Coach starting Week 11   \n",
       "4     Dick Jauron  BUF   9   3  6  0      1   10     Fired after Week 10   \n",
       "\n",
       "   Season  \n",
       "0    2009  \n",
       "1    2009  \n",
       "2    2009  \n",
       "3    2009  \n",
       "4    2009  "
      ]
     },
     "execution_count": 18,
     "metadata": {},
     "output_type": "execute_result"
    }
   ],
   "source": [
    "seasons = list(range(2009,2020))\n",
    "\n",
    "coaches = None\n",
    "for season in seasons:\n",
    "    path = './data/coaches/{}_HC.csv'.format(season)\n",
    "    sea_coach = pd.read_csv(path)\n",
    "    sea_coach['Season']=season\n",
    "    print(len(sea_coach))\n",
    "    if coaches is not None:\n",
    "        coaches = pd.concat([coaches,sea_coach],axis=0)\n",
    "    else:\n",
    "        coaches = sea_coach\n",
    "        \n",
    "coaches.head()"
   ]
  },
  {
   "cell_type": "code",
   "execution_count": 19,
   "metadata": {},
   "outputs": [
    {
     "name": "stdout",
     "output_type": "stream",
     "text": [
      "374\n"
     ]
    }
   ],
   "source": [
    "print(len(coaches))"
   ]
  },
  {
   "cell_type": "code",
   "execution_count": 20,
   "metadata": {},
   "outputs": [
    {
     "name": "stdout",
     "output_type": "stream",
     "text": [
      "['ARI' 'ATL' 'BAL' 'BUF' 'CAR' 'CHI' 'CIN' 'CLE' 'DAL' 'DEN' 'DET' 'GB'\n",
      " 'HOU' 'IND' 'JAC' 'JAX' 'KC' 'LA' 'LAC' 'MIA' 'MIN' 'NE' 'NO' 'NYG' 'NYJ'\n",
      " 'OAK' 'PHI' 'PIT' 'SD' 'SEA' 'SF' 'STL' 'TB' 'TEN' 'WAS']\n",
      "['ARI' 'ATL' 'BAL' 'BUF' 'CAR' 'CHI' 'CIN' 'CLE' 'DAL' 'DEN' 'DET' 'GNB'\n",
      " 'HOU' 'IND' 'JAX' 'KAN' 'LAC' 'LAR' 'MIA' 'MIN' 'NOR' 'NWE' 'NYG' 'NYJ'\n",
      " 'OAK' 'PHI' 'PIT' 'SDG' 'SEA' 'SFO' 'STL' 'TAM' 'TEN' 'WAS']\n",
      "There are now 0 teams with different abbreviations\n"
     ]
    }
   ],
   "source": [
    "# match up team ids\n",
    "print(np.sort(pbp.posteam.unique()))\n",
    "\n",
    "# lower counts means multiple ids\n",
    "# print(pbp.groupby(['posteam'])['epa'].count().reset_index().sort_values(by=['epa']))\n",
    "\n",
    "print(np.sort(coaches.Tm.unique()))\n",
    "\n",
    "nflR_to_nflR = {\n",
    "    'JAC':'JAX',\n",
    "    'SD':'LAC',\n",
    "    'STL':'LA',\n",
    "}\n",
    "\n",
    "pbp['posteam'] = pbp['posteam'].copy().replace(nflR_to_nflR)\n",
    "pbp['defteam'] = pbp['defteam'].copy().replace(nflR_to_nflR)\n",
    "\n",
    "\n",
    "coach_to_nflR = {\n",
    "    'GNB':'GB',\n",
    "    'KAN':'KC',\n",
    "    'LAR':'LA',\n",
    "    'NOR':'NO',\n",
    "    'NWE':'NE',\n",
    "    'SDG':'LAC',\n",
    "    'SFO':'SF',\n",
    "    'STL':'LA',\n",
    "    'TAM':'TB'\n",
    "}\n",
    "\n",
    "coaches['Tm'] = coaches['Tm'].copy().replace(coach_to_nflR)\n",
    "\n",
    "still_diff = list(set(pbp.posteam.unique()) - set(coaches.Tm.unique()))\n",
    "print(\"There are now {} teams with different abbreviations\".format(len(still_diff)))"
   ]
  },
  {
   "cell_type": "code",
   "execution_count": 21,
   "metadata": {},
   "outputs": [
    {
     "name": "stdout",
     "output_type": "stream",
     "text": [
      "5984\n",
      "5984\n"
     ]
    },
    {
     "data": {
      "text/html": [
       "<div>\n",
       "<style scoped>\n",
       "    .dataframe tbody tr th:only-of-type {\n",
       "        vertical-align: middle;\n",
       "    }\n",
       "\n",
       "    .dataframe tbody tr th {\n",
       "        vertical-align: top;\n",
       "    }\n",
       "\n",
       "    .dataframe thead th {\n",
       "        text-align: right;\n",
       "    }\n",
       "</style>\n",
       "<table border=\"1\" class=\"dataframe\">\n",
       "  <thead>\n",
       "    <tr style=\"text-align: right;\">\n",
       "      <th></th>\n",
       "      <th>season</th>\n",
       "      <th>week</th>\n",
       "      <th>posteam</th>\n",
       "      <th>head_coach</th>\n",
       "    </tr>\n",
       "  </thead>\n",
       "  <tbody>\n",
       "    <tr>\n",
       "      <th>0</th>\n",
       "      <td>2009</td>\n",
       "      <td>1</td>\n",
       "      <td>ARI</td>\n",
       "      <td>Ken Whisenhunt</td>\n",
       "    </tr>\n",
       "    <tr>\n",
       "      <th>1</th>\n",
       "      <td>2009</td>\n",
       "      <td>2</td>\n",
       "      <td>ARI</td>\n",
       "      <td>Ken Whisenhunt</td>\n",
       "    </tr>\n",
       "    <tr>\n",
       "      <th>2</th>\n",
       "      <td>2009</td>\n",
       "      <td>3</td>\n",
       "      <td>ARI</td>\n",
       "      <td>Ken Whisenhunt</td>\n",
       "    </tr>\n",
       "    <tr>\n",
       "      <th>3</th>\n",
       "      <td>2009</td>\n",
       "      <td>4</td>\n",
       "      <td>ARI</td>\n",
       "      <td>Ken Whisenhunt</td>\n",
       "    </tr>\n",
       "    <tr>\n",
       "      <th>4</th>\n",
       "      <td>2009</td>\n",
       "      <td>5</td>\n",
       "      <td>ARI</td>\n",
       "      <td>Ken Whisenhunt</td>\n",
       "    </tr>\n",
       "  </tbody>\n",
       "</table>\n",
       "</div>"
      ],
      "text/plain": [
       "   season  week posteam      head_coach\n",
       "0    2009     1     ARI  Ken Whisenhunt\n",
       "1    2009     2     ARI  Ken Whisenhunt\n",
       "2    2009     3     ARI  Ken Whisenhunt\n",
       "3    2009     4     ARI  Ken Whisenhunt\n",
       "4    2009     5     ARI  Ken Whisenhunt"
      ]
     },
     "execution_count": 21,
     "metadata": {},
     "output_type": "execute_result"
    }
   ],
   "source": [
    "# goal is to add head coach column to nflscrapR data\n",
    "\n",
    "# i'll assemble a dataframe that has the following cols:\n",
    "\n",
    "# [season     week      team       coach]     \n",
    "\n",
    "# there is definitely a good way to do this with a dataframe pivot but i'll do the slower simple dumber way with 2 for loops\n",
    "coach_df = []\n",
    "i = 0\n",
    "for index, row in coaches.iterrows():\n",
    "    season = row['Season']\n",
    "    begin = row['Begin']\n",
    "    end = row['End'] + 1\n",
    "    coach = row['Coach']\n",
    "    team = row['Tm']\n",
    "    weeks = list(range(begin, end))\n",
    "    for week in weeks:\n",
    "        coach_df.append([season, week, team, coach])\n",
    "            \n",
    "coach_df = pd.DataFrame(coach_df, columns=['season', 'week', 'posteam', 'head_coach'])\n",
    "\n",
    "print(len(coach_df))\n",
    "coach_df = coach_df.drop_duplicates()\n",
    "print(len(coach_df))\n",
    "coach_df.head()"
   ]
  },
  {
   "cell_type": "code",
   "execution_count": 22,
   "metadata": {},
   "outputs": [
    {
     "name": "stdout",
     "output_type": "stream",
     "text": [
      "363539\n",
      "363539\n"
     ]
    },
    {
     "data": {
      "text/html": [
       "<div>\n",
       "<style scoped>\n",
       "    .dataframe tbody tr th:only-of-type {\n",
       "        vertical-align: middle;\n",
       "    }\n",
       "\n",
       "    .dataframe tbody tr th {\n",
       "        vertical-align: top;\n",
       "    }\n",
       "\n",
       "    .dataframe thead th {\n",
       "        text-align: right;\n",
       "    }\n",
       "</style>\n",
       "<table border=\"1\" class=\"dataframe\">\n",
       "  <thead>\n",
       "    <tr style=\"text-align: right;\">\n",
       "      <th></th>\n",
       "      <th>season</th>\n",
       "      <th>week</th>\n",
       "      <th>posteam</th>\n",
       "    </tr>\n",
       "  </thead>\n",
       "  <tbody>\n",
       "    <tr>\n",
       "      <th>0</th>\n",
       "      <td>2009</td>\n",
       "      <td>1</td>\n",
       "      <td>PIT</td>\n",
       "    </tr>\n",
       "    <tr>\n",
       "      <th>1</th>\n",
       "      <td>2009</td>\n",
       "      <td>1</td>\n",
       "      <td>PIT</td>\n",
       "    </tr>\n",
       "    <tr>\n",
       "      <th>2</th>\n",
       "      <td>2009</td>\n",
       "      <td>1</td>\n",
       "      <td>PIT</td>\n",
       "    </tr>\n",
       "    <tr>\n",
       "      <th>3</th>\n",
       "      <td>2009</td>\n",
       "      <td>1</td>\n",
       "      <td>TEN</td>\n",
       "    </tr>\n",
       "    <tr>\n",
       "      <th>4</th>\n",
       "      <td>2009</td>\n",
       "      <td>1</td>\n",
       "      <td>TEN</td>\n",
       "    </tr>\n",
       "  </tbody>\n",
       "</table>\n",
       "</div>"
      ],
      "text/plain": [
       "   season  week posteam\n",
       "0    2009     1     PIT\n",
       "1    2009     1     PIT\n",
       "2    2009     1     PIT\n",
       "3    2009     1     TEN\n",
       "4    2009     1     TEN"
      ]
     },
     "execution_count": 22,
     "metadata": {},
     "output_type": "execute_result"
    }
   ],
   "source": [
    "# load in week data separately & merge with pbp data\n",
    "\n",
    "wk_id = None\n",
    "\n",
    "for season in seasons:\n",
    "    path = './data/nflscrapR/games_data/regular_season/reg_games_{}.csv'.format(season)\n",
    "    sea_wk = pd.read_csv(path)\n",
    "    \n",
    "    \n",
    "    if wk_id is not None:\n",
    "        wk_id = pd.concat([wk_id,sea_wk],axis=0)\n",
    "    else:\n",
    "        wk_id = sea_wk\n",
    "        \n",
    "wk_id = wk_id[['game_id','season','week']]\n",
    "print(len(pbp))\n",
    "pbp = pd.merge(pbp, wk_id, how='left', on=['game_id','game_id'])\n",
    "print(len(pbp))\n",
    "pbp[['season','week','posteam']].head()"
   ]
  },
  {
   "cell_type": "code",
   "execution_count": 23,
   "metadata": {},
   "outputs": [],
   "source": [
    "pbp = pbp.reset_index(drop=True)"
   ]
  },
  {
   "cell_type": "code",
   "execution_count": 24,
   "metadata": {},
   "outputs": [
    {
     "name": "stdout",
     "output_type": "stream",
     "text": [
      "363539\n"
     ]
    }
   ],
   "source": [
    "print(len(pbp))\n",
    "pbp = pd.merge(pbp, coach_df, how='left', left_on=['season','week','posteam'], right_on=['season','week','posteam'])\n"
   ]
  },
  {
   "cell_type": "code",
   "execution_count": 25,
   "metadata": {},
   "outputs": [
    {
     "name": "stdout",
     "output_type": "stream",
     "text": [
      "363539\n"
     ]
    }
   ],
   "source": [
    "print(len(pbp))"
   ]
  },
  {
   "cell_type": "markdown",
   "metadata": {},
   "source": [
    "Originally my idea was to predict run/pass based on a sklearn model"
   ]
  },
  {
   "cell_type": "code",
   "execution_count": 26,
   "metadata": {},
   "outputs": [],
   "source": [
    "# https://machinelearningmastery.com/compare-machine-learning-algorithms-python-scikit-learn/"
   ]
  },
  {
   "cell_type": "code",
   "execution_count": 27,
   "metadata": {
    "scrolled": true
   },
   "outputs": [],
   "source": [
    "# from sklearn.metrics import log_loss\n",
    "# from sklearn.linear_model import LogisticRegression\n",
    "# from sklearn.neural_network import MLPClassifier\n",
    "# from sklearn.neighbors import KNeighborsClassifier\n",
    "# from sklearn.svm import SVC\n",
    "# from sklearn.gaussian_process import GaussianProcessClassifier\n",
    "# from sklearn.gaussian_process.kernels import RBF\n",
    "# from sklearn.tree import DecisionTreeClassifier\n",
    "# from sklearn.ensemble import RandomForestClassifier, AdaBoostClassifier\n",
    "# from sklearn.naive_bayes import GaussianNB\n",
    "# from sklearn.discriminant_analysis import LinearDiscriminantAnalysis, QuadraticDiscriminantAnalysis\n",
    "\n",
    "# seed = 17\n",
    "# # prepare models\n",
    "# models = []\n",
    "# models.append(('LR', LogisticRegression(max_iter=2500)))\n",
    "# models.append(('MLP', MLPClassifier()))\n",
    "# models.append(('LDA', LinearDiscriminantAnalysis()))\n",
    "# models.append(('KNN', KNeighborsClassifier()))\n",
    "# models.append(('RF', RandomForestClassifier()))\n",
    "# models.append(('CART', DecisionTreeClassifier()))\n",
    "# models.append(('NB', GaussianNB()))\n",
    "# # models.append(('SVM', SVC(max_iter=2500)))\n",
    "# # evaluate each model in turn\n",
    "# results = []\n",
    "# names = []\n",
    "# scoring = 'accuracy'\n",
    "# for name, model in models:\n",
    "#     kfold = model_selection.KFold(n_splits=5, random_state=seed, shuffle=True)\n",
    "#     cv_results = model_selection.cross_val_score(model, df, target, cv=kfold, scoring=scoring)\n",
    "#     results.append(cv_results)\n",
    "#     names.append(name)\n",
    "#     msg = \"%s: %f (%f)\" % (name, cv_results.mean(), cv_results.std())\n",
    "#     print(msg)\n",
    "# # boxplot algorithm comparison\n",
    "# fig = plt.figure()\n",
    "# fig.suptitle('Algorithm Comparison')\n",
    "# ax = fig.add_subplot(111)\n",
    "# plt.boxplot(results)\n",
    "# ax.set_xticklabels(names)\n",
    "# plt.show()\n"
   ]
  },
  {
   "cell_type": "code",
   "execution_count": 39,
   "metadata": {},
   "outputs": [
    {
     "data": {
      "image/png": "[encoded data removed]",
      "text/plain": [
       "<Figure size 432x288 with 1 Axes>"
      ]
     },
     "metadata": {
      "needs_background": "light"
     },
     "output_type": "display_data"
    }
   ],
   "source": [
    "# weakly informative prior\n",
    "\n",
    "import scipy.stats as ss\n",
    "\n",
    "def plot_beta(x_range, a, b, mu=0, sigma=1, cdf=False, **kwargs):\n",
    "    '''\n",
    "    Plots the f distribution function for a given x range, a and b\n",
    "    If mu and sigma are not provided, standard beta is plotted\n",
    "    If cdf=True cumulative distribution is plotted\n",
    "    Passes any keyword arguments to matplotlib plot function\n",
    "    '''\n",
    "    x = x_range\n",
    "    if cdf:\n",
    "        y = ss.beta.cdf(x, a, b, mu, sigma)\n",
    "    else:\n",
    "        y = ss.beta.pdf(x, a, b, mu, sigma)\n",
    "    plt.plot(x, y, **kwargs)\n",
    "    \n",
    "x = np.linspace(0, 1, 2000)\n",
    "\n",
    "plot_beta(x, 3, 3, 0, 1, color='red', lw=2, ls='-', alpha=0.5, label='pdf')\n",
    "plot_beta(x, 3, 3, 0, 1, cdf=True, color='blue', lw=2, ls='-', alpha=0.5, label='cdf')\n",
    "plt.title(\"Beta prior distribution (alpha=3, beta=3)\")\n",
    "plt.xlabel(\"Pass Rate\")\n",
    "plt.legend();\n",
    "plt.savefig('./figures/beta33.png')"
   ]
  },
  {
   "cell_type": "code",
   "execution_count": 30,
   "metadata": {},
   "outputs": [
    {
     "data": {
      "text/plain": [
       "play_id       0\n",
       "game_id       0\n",
       "home_team     0\n",
       "away_team     0\n",
       "posteam       0\n",
       "             ..\n",
       "is_home       0\n",
       "half          0\n",
       "season        0\n",
       "week          0\n",
       "head_coach    0\n",
       "Length: 261, dtype: int64"
      ]
     },
     "execution_count": 30,
     "metadata": {},
     "output_type": "execute_result"
    }
   ],
   "source": [
    "pbp.isnull().sum(axis=0)"
   ]
  },
  {
   "cell_type": "code",
   "execution_count": 58,
   "metadata": {},
   "outputs": [],
   "source": [
    "pbp.loc[:,'play_type'] = pbp.play_type.copy().replace({\"run\":\"0\",\"pass\":\"1\"}).astype(int)"
   ]
  },
  {
   "cell_type": "markdown",
   "metadata": {},
   "source": [
    "Instead of ML models I'll use pymc3 to estimate the base rate."
   ]
  },
  {
   "cell_type": "code",
   "execution_count": 37,
   "metadata": {},
   "outputs": [
    {
     "name": "stderr",
     "output_type": "stream",
     "text": [
      "/usr/local/lib/python3.7/site-packages/pandas/core/indexing.py:494: SettingWithCopyWarning: \n",
      "A value is trying to be set on a copy of a slice from a DataFrame.\n",
      "Try using .loc[row_indexer,col_indexer] = value instead\n",
      "\n",
      "See the caveats in the documentation: http://pandas.pydata.org/pandas-docs/stable/user_guide/indexing.html#returning-a-view-versus-a-copy\n",
      "  self.obj[item] = s\n",
      "Auto-assigning NUTS sampler...\n",
      "Initializing NUTS using adapt_diag...\n",
      "Multiprocess sampling (4 chains in 4 jobs)\n",
      "NUTS: [pct_pass]\n",
      "Sampling 4 chains, 0 divergences: 100%|██████████| 12000/12000 [00:01<00:00, 6386.99draws/s]\n"
     ]
    },
    {
     "data": {
      "text/plain": [
       "array([[<matplotlib.axes._subplots.AxesSubplot object at 0x15aa98d10>,\n",
       "        <matplotlib.axes._subplots.AxesSubplot object at 0x1477cd8d0>]],\n",
       "      dtype=object)"
      ]
     },
     "execution_count": 37,
     "metadata": {},
     "output_type": "execute_result"
    },
    {
     "data": {
      "image/png": "[encoded data removed]",
      "text/plain": [
       "<Figure size 864x144 with 2 Axes>"
      ]
     },
     "metadata": {
      "needs_background": "light"
     },
     "output_type": "display_data"
    }
   ],
   "source": [
    "import pymc3 as pm\n",
    "\n",
    "data = pbp[['head_coach','yards_for_td','ydstogo','down','half','half_seconds_remaining','score_differential','play_type']]\n",
    "data.loc[:,'play_type'] = data.play_type.copy().replace({\"run\":\"0\",\"pass\":\"1\"}).astype(int)\n",
    "\n",
    "# shuffle data \n",
    "data = data.sample(frac=1)\n",
    "\n",
    "# only need 5000 observations\n",
    "data = data[:5000]\n",
    "\n",
    "plays = data.play_type.values\n",
    "n = len(plays)\n",
    "\n",
    "\n",
    "with pm.Model() as model:\n",
    "    pct_pass = pm.Beta('pct_pass', alpha=3, beta=3)\n",
    "    y = pm.Bernoulli('likelihood', p=pct_pass, observed=plays)\n",
    "    \n",
    "    trace = pm.sample(2000, chains=4, tune=1000, init='adapt_diag')\n",
    "    \n",
    "trarr = pm.traceplot(trace, var_names=['pct_pass'])\n",
    "\n",
    "fig = plt.gcf() # to get the current figure...\n",
    "fig.savefig(\"./figures/base_pass_rate.png\") # and save it directly\n",
    "\n",
    "trarr\n"
   ]
  },
  {
   "cell_type": "code",
   "execution_count": 43,
   "metadata": {},
   "outputs": [
    {
     "name": "stdout",
     "output_type": "stream",
     "text": [
      "-20.0\n",
      "17.0\n"
     ]
    }
   ],
   "source": [
    "print(pbp.score_differential.quantile(0.05))\n",
    "print(pbp.score_differential.quantile(0.95))"
   ]
  },
  {
   "cell_type": "code",
   "execution_count": 40,
   "metadata": {},
   "outputs": [
    {
     "name": "stderr",
     "output_type": "stream",
     "text": [
      "/usr/local/lib/python3.7/site-packages/pandas/core/indexing.py:494: SettingWithCopyWarning: \n",
      "A value is trying to be set on a copy of a slice from a DataFrame.\n",
      "Try using .loc[row_indexer,col_indexer] = value instead\n",
      "\n",
      "See the caveats in the documentation: http://pandas.pydata.org/pandas-docs/stable/user_guide/indexing.html#returning-a-view-versus-a-copy\n",
      "  self.obj[item] = s\n",
      "Auto-assigning NUTS sampler...\n",
      "Initializing NUTS using adapt_diag...\n",
      "Multiprocess sampling (4 chains in 4 jobs)\n",
      "NUTS: [β, α]\n",
      "Sampling 4 chains, 0 divergences: 100%|██████████| 12000/12000 [00:11<00:00, 1051.57draws/s]\n"
     ]
    },
    {
     "data": {
      "text/plain": [
       "array([[<matplotlib.axes._subplots.AxesSubplot object at 0x14baefd10>,\n",
       "        <matplotlib.axes._subplots.AxesSubplot object at 0x1469dff50>],\n",
       "       [<matplotlib.axes._subplots.AxesSubplot object at 0x1469d8c50>,\n",
       "        <matplotlib.axes._subplots.AxesSubplot object at 0x14c5a5c90>]],\n",
       "      dtype=object)"
      ]
     },
     "execution_count": 40,
     "metadata": {},
     "output_type": "execute_result"
    },
    {
     "data": {
      "image/png": "[encoded data removed]",
      "text/plain": [
       "<Figure size 864x288 with 4 Axes>"
      ]
     },
     "metadata": {
      "needs_background": "light"
     },
     "output_type": "display_data"
    }
   ],
   "source": [
    "data = pbp[['score_differential','play_type']]\n",
    "data.loc[:,'play_type'] = data.play_type.copy().replace({\"run\":\"0\",\"pass\":\"1\"}).astype(int)\n",
    "\n",
    "# shuffle data \n",
    "data = data.sample(frac=1)\n",
    "\n",
    "# let's use 10,000 observations\n",
    "data = data[:10000]\n",
    "\n",
    "plays = data.play_type.values\n",
    "covariate = data.score_differential.values\n",
    "n = len(plays)\n",
    "\n",
    "with pm.Model() as model:\n",
    "    \n",
    "    # priors\n",
    "    α = pm.StudentT('α',nu=6,mu=0,sigma=4)\n",
    "    β  = pm.StudentT('β',nu=6,mu=0,sigma=4)\n",
    "    \n",
    "    # linear regression, the engine behind logistic regression\n",
    "    μ = α + β * covariate\n",
    "    \n",
    "    # link function theta - necessary for modeling Binary outcomes\n",
    "    θ = pm.Deterministic('θ', pm.math.invlogit(μ))\n",
    "    \n",
    "    # observed/target\n",
    "    y = pm.Bernoulli('y', p=θ, observed=plays)\n",
    "    \n",
    "    trace = pm.sample(2000, chains=4, tune=1000, init='adapt_diag')\n",
    "    \n",
    "trarr = pm.traceplot(trace, var_names=['α','β'])\n",
    "\n",
    "fig = plt.gcf() \n",
    "fig.savefig(\"./figures/one_covariate_trace.png\") \n",
    "\n",
    "trarr\n"
   ]
  },
  {
   "cell_type": "code",
   "execution_count": 56,
   "metadata": {},
   "outputs": [
    {
     "data": {
      "image/png": "[encoded data removed]",
      "text/plain": [
       "<Figure size 864x432 with 1 Axes>"
      ]
     },
     "metadata": {
      "needs_background": "light"
     },
     "output_type": "display_data"
    }
   ],
   "source": [
    "def lm_full(trace, score_diff):\n",
    "    shape = np.broadcast(score_diff).shape\n",
    "    x_norm = np.asarray([np.broadcast_to(x, shape) for x in [score_diff]])\n",
    "    # return inverse logit\n",
    "    return 1 / (1 + np.exp(-(trace['α'] + \n",
    "                             trace['β']*x_norm[0])))\n",
    "\n",
    "samples=1000\n",
    "x = np.linspace(-17, 17, samples)\n",
    "\n",
    "lm = lambda x, trace: lm_full(trace, x)\n",
    "\n",
    "fig = plt.figure(figsize=(12,6))\n",
    "pm.plot_posterior_predictive_glm(trace, eval=np.linspace(-24,24,1000), lm=lm, samples=100, color='blue', alpha=.5)\n",
    "\n",
    "import matplotlib.lines as mlines\n",
    "blue_line = mlines.Line2D(['lm'], [], color='b')\n",
    "plt.legend(handles=[blue_line], loc='lower right')\n",
    "plt.ylabel(\"P(Pass)\")\n",
    "plt.xlabel(\"Score Diff\")\n",
    "plt.savefig(\"./figures/score_diff.png\")\n",
    "plt.show()\n"
   ]
  },
  {
   "cell_type": "code",
   "execution_count": 61,
   "metadata": {},
   "outputs": [
    {
     "data": {
      "text/html": [
       "<div>\n",
       "<style scoped>\n",
       "    .dataframe tbody tr th:only-of-type {\n",
       "        vertical-align: middle;\n",
       "    }\n",
       "\n",
       "    .dataframe tbody tr th {\n",
       "        vertical-align: top;\n",
       "    }\n",
       "\n",
       "    .dataframe thead th {\n",
       "        text-align: right;\n",
       "    }\n",
       "</style>\n",
       "<table border=\"1\" class=\"dataframe\">\n",
       "  <thead>\n",
       "    <tr style=\"text-align: right;\">\n",
       "      <th></th>\n",
       "      <th>head_coach</th>\n",
       "      <th>play_type</th>\n",
       "    </tr>\n",
       "  </thead>\n",
       "  <tbody>\n",
       "    <tr>\n",
       "      <th>5</th>\n",
       "      <td>Bill Belichick</td>\n",
       "      <td>12090</td>\n",
       "    </tr>\n",
       "    <tr>\n",
       "      <th>44</th>\n",
       "      <td>John Harbaugh</td>\n",
       "      <td>11729</td>\n",
       "    </tr>\n",
       "    <tr>\n",
       "      <th>66</th>\n",
       "      <td>Mike Tomlin</td>\n",
       "      <td>11364</td>\n",
       "    </tr>\n",
       "    <tr>\n",
       "      <th>2</th>\n",
       "      <td>Andy Reid</td>\n",
       "      <td>11147</td>\n",
       "    </tr>\n",
       "    <tr>\n",
       "      <th>80</th>\n",
       "      <td>Sean Payton</td>\n",
       "      <td>10702</td>\n",
       "    </tr>\n",
       "    <tr>\n",
       "      <th>...</th>\n",
       "      <td>...</td>\n",
       "      <td>...</td>\n",
       "    </tr>\n",
       "    <tr>\n",
       "      <th>27</th>\n",
       "      <td>Gregg Williams</td>\n",
       "      <td>466</td>\n",
       "    </tr>\n",
       "    <tr>\n",
       "      <th>0</th>\n",
       "      <td>Aaron Kromer</td>\n",
       "      <td>349</td>\n",
       "    </tr>\n",
       "    <tr>\n",
       "      <th>57</th>\n",
       "      <td>Mel Tucker</td>\n",
       "      <td>309</td>\n",
       "    </tr>\n",
       "    <tr>\n",
       "      <th>22</th>\n",
       "      <td>Eric Studesville</td>\n",
       "      <td>256</td>\n",
       "    </tr>\n",
       "    <tr>\n",
       "      <th>42</th>\n",
       "      <td>John Fassel</td>\n",
       "      <td>173</td>\n",
       "    </tr>\n",
       "  </tbody>\n",
       "</table>\n",
       "<p>92 rows × 2 columns</p>\n",
       "</div>"
      ],
      "text/plain": [
       "          head_coach  play_type\n",
       "5     Bill Belichick      12090\n",
       "44     John Harbaugh      11729\n",
       "66       Mike Tomlin      11364\n",
       "2          Andy Reid      11147\n",
       "80       Sean Payton      10702\n",
       "..               ...        ...\n",
       "27    Gregg Williams        466\n",
       "0       Aaron Kromer        349\n",
       "57        Mel Tucker        309\n",
       "22  Eric Studesville        256\n",
       "42       John Fassel        173\n",
       "\n",
       "[92 rows x 2 columns]"
      ]
     },
     "execution_count": 61,
     "metadata": {},
     "output_type": "execute_result"
    }
   ],
   "source": [
    "# test for pass heavy coaches\n",
    "data = pbp[['head_coach','score_differential','play_type']]\n",
    "\n",
    "data.groupby(['head_coach'])['play_type'].count().reset_index().sort_values(by=['play_type'],ascending=False)"
   ]
  },
  {
   "cell_type": "code",
   "execution_count": 60,
   "metadata": {},
   "outputs": [
    {
     "data": {
      "text/html": [
       "<div>\n",
       "<style scoped>\n",
       "    .dataframe tbody tr th:only-of-type {\n",
       "        vertical-align: middle;\n",
       "    }\n",
       "\n",
       "    .dataframe tbody tr th {\n",
       "        vertical-align: top;\n",
       "    }\n",
       "\n",
       "    .dataframe thead th {\n",
       "        text-align: right;\n",
       "    }\n",
       "</style>\n",
       "<table border=\"1\" class=\"dataframe\">\n",
       "  <thead>\n",
       "    <tr style=\"text-align: right;\">\n",
       "      <th></th>\n",
       "      <th>head_coach</th>\n",
       "      <th>play_type</th>\n",
       "    </tr>\n",
       "  </thead>\n",
       "  <tbody>\n",
       "    <tr>\n",
       "      <th>0</th>\n",
       "      <td>Aaron Kromer</td>\n",
       "      <td>0.727794</td>\n",
       "    </tr>\n",
       "    <tr>\n",
       "      <th>75</th>\n",
       "      <td>Rob Chudzinski</td>\n",
       "      <td>0.680075</td>\n",
       "    </tr>\n",
       "    <tr>\n",
       "      <th>9</th>\n",
       "      <td>Brian Flores</td>\n",
       "      <td>0.667954</td>\n",
       "    </tr>\n",
       "    <tr>\n",
       "      <th>28</th>\n",
       "      <td>Gus Bradley</td>\n",
       "      <td>0.641988</td>\n",
       "    </tr>\n",
       "    <tr>\n",
       "      <th>34</th>\n",
       "      <td>Jim Caldwell</td>\n",
       "      <td>0.641970</td>\n",
       "    </tr>\n",
       "    <tr>\n",
       "      <th>...</th>\n",
       "      <td>...</td>\n",
       "      <td>...</td>\n",
       "    </tr>\n",
       "    <tr>\n",
       "      <th>57</th>\n",
       "      <td>Mel Tucker</td>\n",
       "      <td>0.527508</td>\n",
       "    </tr>\n",
       "    <tr>\n",
       "      <th>22</th>\n",
       "      <td>Eric Studesville</td>\n",
       "      <td>0.523438</td>\n",
       "    </tr>\n",
       "    <tr>\n",
       "      <th>35</th>\n",
       "      <td>Jim Harbaugh</td>\n",
       "      <td>0.518434</td>\n",
       "    </tr>\n",
       "    <tr>\n",
       "      <th>74</th>\n",
       "      <td>Rex Ryan</td>\n",
       "      <td>0.515908</td>\n",
       "    </tr>\n",
       "    <tr>\n",
       "      <th>76</th>\n",
       "      <td>Romeo Crennel</td>\n",
       "      <td>0.511876</td>\n",
       "    </tr>\n",
       "  </tbody>\n",
       "</table>\n",
       "<p>92 rows × 2 columns</p>\n",
       "</div>"
      ],
      "text/plain": [
       "          head_coach  play_type\n",
       "0       Aaron Kromer   0.727794\n",
       "75    Rob Chudzinski   0.680075\n",
       "9       Brian Flores   0.667954\n",
       "28       Gus Bradley   0.641988\n",
       "34      Jim Caldwell   0.641970\n",
       "..               ...        ...\n",
       "57        Mel Tucker   0.527508\n",
       "22  Eric Studesville   0.523438\n",
       "35      Jim Harbaugh   0.518434\n",
       "74          Rex Ryan   0.515908\n",
       "76     Romeo Crennel   0.511876\n",
       "\n",
       "[92 rows x 2 columns]"
      ]
     },
     "execution_count": 60,
     "metadata": {},
     "output_type": "execute_result"
    }
   ],
   "source": [
    "data.groupby(['head_coach'])['play_type'].mean().reset_index().sort_values(by=['play_type'],ascending=False)\n"
   ]
  },
  {
   "cell_type": "code",
   "execution_count": 64,
   "metadata": {},
   "outputs": [
    {
     "name": "stdout",
     "output_type": "stream",
     "text": [
      "Andy Reid and Jim Harbaugh combined for 15107 plays in the dataset\n"
     ]
    }
   ],
   "source": [
    "data = pbp[['head_coach','score_differential','play_type']]\n",
    "data = data.loc[data.head_coach.isin(['Jim Harbaugh','Andy Reid'])]\n",
    "\n",
    "# shuffle data \n",
    "data = data.sample(frac=1)\n",
    "\n",
    "print(\"Andy Reid and Jim Harbaugh combined for {} plays in the dataset\".format(len(data)))\n",
    "\n",
    "plays = data.play_type.values\n",
    "covariate = data.score_differential.values\n",
    "n = len(plays)\n",
    "\n",
    "with pm.Model() as model:\n",
    "    \n",
    "    # priors\n",
    "    α = pm.StudentT('α',nu=6,mu=0,sigma=4)\n",
    "    β  = pm.StudentT('β',nu=6,mu=0,sigma=4)\n",
    "    \n",
    "    # linear regression, the engine behind logistic regression\n",
    "    μ = α + β * covariate\n",
    "    \n",
    "    # link function theta - necessary for modeling Binary outcomes\n",
    "    θ = pm.Deterministic('θ', pm.math.invlogit(μ))\n",
    "    \n",
    "    # observed/target\n",
    "    y = pm.Bernoulli('y', p=θ, observed=plays)\n",
    "    \n",
    "    trace = pm.sample(2000, chains=4, tune=1000, init='adapt_diag')\n",
    "    \n",
    "trarr = pm.traceplot(trace, var_names=['α','β'])\n",
    "\n",
    "fig = plt.gcf() \n",
    "fig.savefig(\"./figures/one_covariate_trace.png\") \n",
    "\n",
    "trarr\n"
   ]
  },
  {
   "cell_type": "code",
   "execution_count": null,
   "metadata": {},
   "outputs": [],
   "source": [
    "# data = pbp[['head_coach','yards_for_td','ydstogo','down','half','half_seconds_remaining','score_differential','play_type']]\n",
    "\n",
    "# le = LabelEncoder()\n",
    "# le.fit(data.head_coach)\n",
    "\n",
    "# data.loc[i_head_coach] = le.transform(data.head_coach.copy())\n",
    "# print(\"there are {} head coaches in the dataset\".format(data.head_coach.max()))\n",
    "\n",
    "# coach_ids = data[['head_coach']]\n",
    "# coach\n",
    "\n",
    "# covariate = data.score_differential.values\n",
    "# plays = data.play_type.values\n",
    "# n = len(plays)\n",
    "\n",
    "    \n",
    "    \n",
    "\n",
    "\n",
    "\n",
    "                              \n",
    "# with pm.Model() as model:\n",
    "#     pm.glm.GLM.from_formula('play_type ~ head_coach + yards_for_td + ydstogo + down + half + half_seconds_remaining + score_differential',\n",
    "#                             data,\n",
    "#                             family=pm.glm.families.Binomial())\n",
    "#     trace = pm.sample(2000, chains=4, tune=1000, init='adapt_diag')\n",
    "\n",
    "\n",
    "# stan_code = \"\"\"\n",
    "\n",
    "# data{\n",
    "#     int<lower=1> I; //number features\n",
    "#     int<lower=1> N; //number plays\n",
    "    \n",
    "#     matrix[N, I] X;\n",
    "    \n",
    "#     int<lower=0, upper=1> y[N]; // target\n",
    "# }\n",
    "\n",
    "# parameters{\n",
    "#     vector[I] beta;\n",
    "#     real alpha; // intercept, as in traditional linear regression\n",
    "# }\n",
    "\n",
    "# //transformed parameters{\n",
    "# //}\n",
    "\n",
    "# model{\n",
    "#     // covariate priors (essentially ignorant)\n",
    "#     beta ~ normal(0,10);\n",
    "#     alpha ~ normal(0,10);\n",
    "    \n",
    "#     // \"bernoulli logit\" is special stan syntax that speeds up processing\n",
    "#     y ~ bernoulli_logit(X * beta + alpha); // linear function, inside link function \n",
    "# }\n",
    "\n",
    "# \"\"\"\n",
    "\n",
    "# play_data = {\n",
    "#     'I':X.shape[1],\n",
    "#     'N':len(mdf),\n",
    "#     'X':X,\n",
    "#     'y':plays\n",
    "# }\n",
    "\n",
    "\n",
    "# sm = pystan.StanModel(model_code=stan_code)\n",
    "# fit = sm.sampling(data=play_data)\n"
   ]
  },
  {
   "cell_type": "code",
   "execution_count": null,
   "metadata": {},
   "outputs": [],
   "source": [
    "# trarr = pm.traceplot(trace, var_names=['α','β'])\n",
    "\n",
    "# fig = plt.gcf() # to get the current figure...\n",
    "# fig.savefig(\"./figures/simple_logit.png\") # and save it directly\n",
    "\n",
    "# pm.traceplot(trace, var_names=['α','β'])"
   ]
  },
  {
   "cell_type": "code",
   "execution_count": null,
   "metadata": {},
   "outputs": [],
   "source": [
    "# p = trace.get_values('p', burn=niter//2, combine=True, chains=[0,4])\n",
    "# pm.traceplot(trace, var_names=['p'])"
   ]
  },
  {
   "cell_type": "code",
   "execution_count": null,
   "metadata": {},
   "outputs": [],
   "source": [
    "# le.classes_"
   ]
  },
  {
   "cell_type": "code",
   "execution_count": null,
   "metadata": {},
   "outputs": [],
   "source": [
    "# df_hpd = pd.DataFrame(pm.stats.hpd(trace['head_coach']),\n",
    "#                       columns=['hpd_low', 'hpd_high'],\n",
    "#                       index=le.classes_)\n",
    "# df_median = pd.DataFrame(np.quantile(trace['head_coach'], 0.5, axis=0),\n",
    "#                          columns=['hpd_median'],\n",
    "#                          index=le.classes_)\n",
    "# df_hpd = df_hpd.join(df_median)\n",
    "# df_hpd['relative_lower'] = df_hpd.hpd_median - df_hpd.hpd_low\n",
    "# df_hpd['relative_upper'] = df_hpd.hpd_high - df_hpd.hpd_median\n",
    "# df_hpd = df_hpd.sort_values(by='hpd_median')\n",
    "# df_hpd = df_hpd.reset_index()\n",
    "# df_hpd['x'] = df_hpd.index + .5\n",
    "\n",
    "\n",
    "# fig, axs = plt.subplots(figsize=(13,7))\n",
    "# axs.errorbar(df_hpd.x, df_hpd.hpd_median,\n",
    "#              yerr=(df_hpd[['relative_lower', 'relative_upper']].values).T,\n",
    "#              fmt='o')\n",
    "# axs.set_title('CI of QB Touchdown Expectation')\n",
    "# axs.set_xlabel('Team')\n",
    "# axs.set_ylabel('Posterior QB Touchdown Expectation')\n",
    "# _= axs.set_xticks(df_hpd.index + .5)\n",
    "# _= axs.set_xticklabels(df_hpd['index'].values, rotation=45)\n",
    "\n",
    "# plt.savefig('./figures/CI_HC.png')"
   ]
  },
  {
   "cell_type": "code",
   "execution_count": null,
   "metadata": {},
   "outputs": [],
   "source": []
  }
 ],
 "metadata": {
  "kernelspec": {
   "display_name": "Python 3",
   "language": "python",
   "name": "python3"
  },
  "language_info": {
   "codemirror_mode": {
    "name": "ipython",
    "version": 3
   },
   "file_extension": ".py",
   "mimetype": "text/x-python",
   "name": "python",
   "nbconvert_exporter": "python",
   "pygments_lexer": "ipython3",
   "version": "3.7.6"
  }
 },
 "nbformat": 4,
 "nbformat_minor": 2
}
